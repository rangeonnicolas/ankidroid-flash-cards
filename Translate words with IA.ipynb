{
 "cells": [
  {
   "cell_type": "markdown",
   "id": "d136f8cf",
   "metadata": {},
   "source": [
    "## Libraries"
   ]
  },
  {
   "cell_type": "code",
   "execution_count": 1,
   "id": "f18aac24",
   "metadata": {},
   "outputs": [
    {
     "name": "stdout",
     "output_type": "stream",
     "text": [
      "Requirement already satisfied: ollama in /home/ubuntu/anaconda3/lib/python3.9/site-packages (0.4.9)\n",
      "Requirement already satisfied: pydantic>=2.9 in /home/ubuntu/anaconda3/lib/python3.9/site-packages (from ollama) (2.11.5)\n",
      "Requirement already satisfied: httpx>=0.27 in /home/ubuntu/anaconda3/lib/python3.9/site-packages (from ollama) (0.28.1)\n",
      "Requirement already satisfied: idna in /home/ubuntu/anaconda3/lib/python3.9/site-packages (from httpx>=0.27->ollama) (3.3)\n",
      "Requirement already satisfied: httpcore==1.* in /home/ubuntu/anaconda3/lib/python3.9/site-packages (from httpx>=0.27->ollama) (1.0.9)\n",
      "Requirement already satisfied: anyio in /home/ubuntu/anaconda3/lib/python3.9/site-packages (from httpx>=0.27->ollama) (4.9.0)\n",
      "Requirement already satisfied: certifi in /home/ubuntu/anaconda3/lib/python3.9/site-packages (from httpx>=0.27->ollama) (2022.9.14)\n",
      "Requirement already satisfied: h11>=0.16 in /home/ubuntu/anaconda3/lib/python3.9/site-packages (from httpcore==1.*->httpx>=0.27->ollama) (0.16.0)\n",
      "Requirement already satisfied: annotated-types>=0.6.0 in /home/ubuntu/anaconda3/lib/python3.9/site-packages (from pydantic>=2.9->ollama) (0.7.0)\n",
      "Requirement already satisfied: typing-inspection>=0.4.0 in /home/ubuntu/anaconda3/lib/python3.9/site-packages (from pydantic>=2.9->ollama) (0.4.1)\n",
      "Requirement already satisfied: typing-extensions>=4.12.2 in /home/ubuntu/anaconda3/lib/python3.9/site-packages (from pydantic>=2.9->ollama) (4.13.2)\n",
      "Requirement already satisfied: pydantic-core==2.33.2 in /home/ubuntu/anaconda3/lib/python3.9/site-packages (from pydantic>=2.9->ollama) (2.33.2)\n",
      "Requirement already satisfied: exceptiongroup>=1.0.2 in /home/ubuntu/anaconda3/lib/python3.9/site-packages (from anyio->httpx>=0.27->ollama) (1.1.3)\n",
      "Requirement already satisfied: sniffio>=1.1 in /home/ubuntu/anaconda3/lib/python3.9/site-packages (from anyio->httpx>=0.27->ollama) (1.2.0)\n",
      "Note: you may need to restart the kernel to use updated packages.\n",
      "Requirement already satisfied: pandas in /home/ubuntu/anaconda3/lib/python3.9/site-packages (1.4.4)\n",
      "Requirement already satisfied: python-dateutil>=2.8.1 in /home/ubuntu/anaconda3/lib/python3.9/site-packages (from pandas) (2.9.0.post0)\n",
      "Requirement already satisfied: pytz>=2020.1 in /home/ubuntu/anaconda3/lib/python3.9/site-packages (from pandas) (2025.2)\n",
      "Requirement already satisfied: numpy>=1.18.5 in /home/ubuntu/anaconda3/lib/python3.9/site-packages (from pandas) (1.21.6)\n",
      "Requirement already satisfied: six>=1.5 in /home/ubuntu/anaconda3/lib/python3.9/site-packages (from python-dateutil>=2.8.1->pandas) (1.16.0)\n",
      "Note: you may need to restart the kernel to use updated packages.\n"
     ]
    }
   ],
   "source": [
    "# Install dependencies\n",
    "%pip install ollama\n",
    "%pip install pandas"
   ]
  },
  {
   "cell_type": "code",
   "execution_count": 2,
   "id": "0f535507",
   "metadata": {},
   "outputs": [],
   "source": [
    "# Import libraries\n",
    "import pandas as pd\n",
    "import ollama\n",
    "import json\n",
    "import os"
   ]
  },
  {
   "cell_type": "markdown",
   "id": "b4779d91",
   "metadata": {},
   "source": [
    "## Parameters"
   ]
  },
  {
   "cell_type": "code",
   "execution_count": 3,
   "id": "7598e44d",
   "metadata": {},
   "outputs": [],
   "source": [
    "# IA model used to translate\n",
    "# Plenty of other available models here : https://ollama.com/search\n",
    "# Find a model whose size fits to your computer\n",
    "ollama_model = \"gemma3:4b\" \n",
    "ollama_model = \"hf.co/bartowski/Llama-3.2-1B-Instruct-GGUF:latest\" #todo\n",
    "\n",
    "# Desired language\n",
    "lang = \"french\"\n",
    "\n",
    "# Nb of words iin each batch to send to the model\n",
    "batch = 5\n",
    "\n",
    "# frequency list (input)\n",
    "freq = \"raw_data/frequency_list_from_frequencylist-com.csv\"\n",
    "\n",
    "# output CSV\n",
    "output = \"deck________tmp.csv\" # todo"
   ]
  },
  {
   "cell_type": "markdown",
   "id": "8ca39c1f",
   "metadata": {},
   "source": [
    "## Prompts"
   ]
  },
  {
   "cell_type": "code",
   "execution_count": 4,
   "id": "f83dd8ea",
   "metadata": {},
   "outputs": [],
   "source": [
    "# Prompts for the AI\n",
    "PROMPT1 = \"Translate this english word into \" + lang + \": {} ({}). Just for information to help you understand the word, here are its variations : {}. Please only give one word, don't explain. If there are several translations, separate them with a comma\"\n",
    "PROMPT2 = \"Give a sentence using this word : {} ({}). Here is the \" + lang + \" translation of this word : {}. Please only give one sentence, don't explain. Don't give the french translation of the sentence\"\n",
    "    "
   ]
  },
  {
   "cell_type": "markdown",
   "id": "3bd05239",
   "metadata": {},
   "source": [
    "## Computing\n",
    "**Nb : the code can be stopped at any moment, the data will be saved. Launching again the code will continue from where it stopped the previous time**"
   ]
  },
  {
   "cell_type": "code",
   "execution_count": 5,
   "id": "6c761679",
   "metadata": {},
   "outputs": [],
   "source": [
    "# We load the frequency list\n",
    "freq = pd.read_csv(freq)\n",
    "\n",
    "# We add 2 empty columns in te table\n",
    "freq[lang] = None\n",
    "freq[\"sentence\"] = None"
   ]
  },
  {
   "cell_type": "code",
   "execution_count": 6,
   "id": "80b24e4b",
   "metadata": {},
   "outputs": [],
   "source": [
    "def translate(row):\n",
    "    word = row[\"word\"]\n",
    "    tpe = row[\"type\"]\n",
    "    inf = row[\"inflections\"]\n",
    "    prompt = PROMPT1.format(word, tpe, inf)\n",
    "    response = ollama.chat(model=ollama_model, messages=[{\"role\": \"user\", \"content\": prompt}])\n",
    "    return response['message']['content'].strip()\n",
    "\n",
    "def give_example(row):\n",
    "    word = row[\"word\"]\n",
    "    tpe = row[\"type\"]\n",
    "    translation = row[lang]\n",
    "    prompt = PROMPT2.format(word, tpe, translation)\n",
    "    response = ollama.chat(model=ollama_model, messages=[{\"role\": \"user\", \"content\": prompt}])\n",
    "    return response['message']['content'].strip()\n",
    "\n"
   ]
  },
  {
   "cell_type": "code",
   "execution_count": 7,
   "id": "672e5256",
   "metadata": {},
   "outputs": [
    {
     "data": {
      "text/html": [
       "<div>\n",
       "<style scoped>\n",
       "    .dataframe tbody tr th:only-of-type {\n",
       "        vertical-align: middle;\n",
       "    }\n",
       "\n",
       "    .dataframe tbody tr th {\n",
       "        vertical-align: top;\n",
       "    }\n",
       "\n",
       "    .dataframe thead th {\n",
       "        text-align: right;\n",
       "    }\n",
       "</style>\n",
       "<table border=\"1\" class=\"dataframe\">\n",
       "  <thead>\n",
       "    <tr style=\"text-align: right;\">\n",
       "      <th></th>\n",
       "      <th>word</th>\n",
       "      <th>type</th>\n",
       "      <th>inflections</th>\n",
       "      <th>freq</th>\n",
       "      <th>french</th>\n",
       "      <th>sentence</th>\n",
       "    </tr>\n",
       "  </thead>\n",
       "  <tbody>\n",
       "    <tr>\n",
       "      <th>0</th>\n",
       "      <td>be</td>\n",
       "      <td>verb</td>\n",
       "      <td>be, am, are, been, being, is, was, were</td>\n",
       "      <td>318018</td>\n",
       "      <td>NaN</td>\n",
       "      <td>NaN</td>\n",
       "    </tr>\n",
       "    <tr>\n",
       "      <th>1</th>\n",
       "      <td>I</td>\n",
       "      <td>function word</td>\n",
       "      <td>I</td>\n",
       "      <td>267578</td>\n",
       "      <td>NaN</td>\n",
       "      <td>NaN</td>\n",
       "    </tr>\n",
       "    <tr>\n",
       "      <th>2</th>\n",
       "      <td>you</td>\n",
       "      <td>function word</td>\n",
       "      <td>you</td>\n",
       "      <td>248266</td>\n",
       "      <td>NaN</td>\n",
       "      <td>NaN</td>\n",
       "    </tr>\n",
       "    <tr>\n",
       "      <th>3</th>\n",
       "      <td>the</td>\n",
       "      <td>function word</td>\n",
       "      <td>the</td>\n",
       "      <td>176446</td>\n",
       "      <td>NaN</td>\n",
       "      <td>NaN</td>\n",
       "    </tr>\n",
       "    <tr>\n",
       "      <th>4</th>\n",
       "      <td>a</td>\n",
       "      <td>function word</td>\n",
       "      <td>a, an</td>\n",
       "      <td>152598</td>\n",
       "      <td>NaN</td>\n",
       "      <td>NaN</td>\n",
       "    </tr>\n",
       "  </tbody>\n",
       "</table>\n",
       "</div>"
      ],
      "text/plain": [
       "  word           type                              inflections    freq  \\\n",
       "0   be           verb  be, am, are, been, being, is, was, were  318018   \n",
       "1    I  function word                                        I  267578   \n",
       "2  you  function word                                      you  248266   \n",
       "3  the  function word                                      the  176446   \n",
       "4    a  function word                                    a, an  152598   \n",
       "\n",
       "   french  sentence  \n",
       "0     NaN       NaN  \n",
       "1     NaN       NaN  \n",
       "2     NaN       NaN  \n",
       "3     NaN       NaN  \n",
       "4     NaN       NaN  "
      ]
     },
     "execution_count": 7,
     "metadata": {},
     "output_type": "execute_result"
    }
   ],
   "source": [
    "# We create the output CSV file\n",
    "if not os.path.exists(output):\n",
    "    freq.to_csv(output, index = False)\n",
    "    \n",
    "# We load the output CSV\n",
    "data = pd.read_csv(output)\n",
    "\n",
    "data.head()"
   ]
  },
  {
   "cell_type": "code",
   "execution_count": 8,
   "id": "665164d0",
   "metadata": {
    "scrolled": true
   },
   "outputs": [
    {
     "name": "stdout",
     "output_type": "stream",
     "text": [
      "Number of remaining rows to fill : 5062\n"
     ]
    },
    {
     "ename": "NameError",
     "evalue": "name 'wo' is not defined",
     "output_type": "error",
     "traceback": [
      "\u001b[0;31m---------------------------------------------------------------------------\u001b[0m",
      "\u001b[0;31mNameError\u001b[0m                                 Traceback (most recent call last)",
      "Cell \u001b[0;32mIn[8], line 15\u001b[0m\n\u001b[1;32m     12\u001b[0m trad \u001b[38;5;241m=\u001b[39m data\u001b[38;5;241m.\u001b[39mloc[batch_idx]\u001b[38;5;241m.\u001b[39mapply(translate, axis\u001b[38;5;241m=\u001b[39m\u001b[38;5;241m1\u001b[39m)\n\u001b[1;32m     13\u001b[0m data\u001b[38;5;241m.\u001b[39mloc[batch_idx, lang] \u001b[38;5;241m=\u001b[39m trad\n\u001b[0;32m---> 15\u001b[0m sentence \u001b[38;5;241m=\u001b[39m \u001b[43mwo\u001b[49m\u001b[38;5;241m.\u001b[39mloc[batch_idx]\u001b[38;5;241m.\u001b[39mapply(give_example, axis\u001b[38;5;241m=\u001b[39m\u001b[38;5;241m1\u001b[39m)\n\u001b[1;32m     16\u001b[0m data\u001b[38;5;241m.\u001b[39mloc[batch_idx, \u001b[38;5;124m\"\u001b[39m\u001b[38;5;124msentence\u001b[39m\u001b[38;5;124m\"\u001b[39m] \u001b[38;5;241m=\u001b[39m sentence\n\u001b[1;32m     18\u001b[0m display(wo\u001b[38;5;241m.\u001b[39mloc[batch_idx, [lang, \u001b[38;5;124m\"\u001b[39m\u001b[38;5;124mword\u001b[39m\u001b[38;5;124m\"\u001b[39m, \u001b[38;5;124m\"\u001b[39m\u001b[38;5;124msentence\u001b[39m\u001b[38;5;124m\"\u001b[39m]])\n",
      "\u001b[0;31mNameError\u001b[0m: name 'wo' is not defined"
     ]
    }
   ],
   "source": [
    "# The file has already been partially filled, we get the remaining rows\n",
    "m = data.sentence.isnull() | data[lang].isnull()\n",
    "missing_idx = data[m].index \n",
    "\n",
    "print(f\"Number of remaining rows to fill : {m.sum()}\")\n",
    "\n",
    "# Main loop\n",
    "for batch_start in range(0, len(data), batch):\n",
    "\n",
    "    batch_idx = missing_idx[batch_start:batch_start + batch]\n",
    "    \n",
    "    trad = data.loc[batch_idx].apply(translate, axis=1)\n",
    "    data.loc[batch_idx, lang] = trad\n",
    "    \n",
    "    sentence = wo.loc[batch_idx].apply(give_example, axis=1)\n",
    "    data.loc[batch_idx, \"sentence\"] = sentence\n",
    "    \n",
    "    display(wo.loc[batch_idx, [lang, \"word\", \"sentence\"]])\n",
    "    \n",
    "    data.to_csv(\"traductions.csv\", index = False)\n",
    "\n"
   ]
  },
  {
   "cell_type": "code",
   "execution_count": null,
   "id": "547eecf2",
   "metadata": {},
   "outputs": [],
   "source": []
  },
  {
   "cell_type": "code",
   "execution_count": null,
   "id": "b3e6c659",
   "metadata": {},
   "outputs": [],
   "source": []
  },
  {
   "cell_type": "code",
   "execution_count": null,
   "id": "18e8fbbe",
   "metadata": {},
   "outputs": [],
   "source": []
  },
  {
   "cell_type": "code",
   "execution_count": null,
   "id": "05b1c6f6",
   "metadata": {},
   "outputs": [],
   "source": []
  }
 ],
 "metadata": {
  "kernelspec": {
   "display_name": "Python 3 (ipykernel)",
   "language": "python",
   "name": "python3"
  },
  "language_info": {
   "codemirror_mode": {
    "name": "ipython",
    "version": 3
   },
   "file_extension": ".py",
   "mimetype": "text/x-python",
   "name": "python",
   "nbconvert_exporter": "python",
   "pygments_lexer": "ipython3",
   "version": "3.9.13"
  }
 },
 "nbformat": 4,
 "nbformat_minor": 5
}
