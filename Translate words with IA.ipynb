{
 "cells": [
  {
   "cell_type": "markdown",
   "id": "d136f8cf",
   "metadata": {},
   "source": [
    "## Libraries"
   ]
  },
  {
   "cell_type": "code",
   "execution_count": null,
   "id": "f18aac24",
   "metadata": {},
   "outputs": [],
   "source": [
    "# Install dependencies\n",
    "%pip install ollama\n",
    "%pip install pandas"
   ]
  },
  {
   "cell_type": "code",
   "execution_count": null,
   "id": "0f535507",
   "metadata": {},
   "outputs": [],
   "source": [
    "# Import libraries\n",
    "import pandas as pd\n",
    "import ollama\n",
    "import json\n",
    "import os"
   ]
  },
  {
   "cell_type": "markdown",
   "id": "b4779d91",
   "metadata": {},
   "source": [
    "## Parameters"
   ]
  },
  {
   "cell_type": "code",
   "execution_count": null,
   "id": "7598e44d",
   "metadata": {},
   "outputs": [],
   "source": [
    "# IA model used to translate\n",
    "# Plenty of other available models here : https://ollama.com/search\n",
    "# Find a model whose size fits to your computer\n",
    "ollama_model = \"gemma3:4b\" \n",
    "\n",
    "# Desired language\n",
    "lang = \"french\"\n",
    "\n",
    "# Nb of words iin each batch to send to the model\n",
    "batch = 5\n",
    "\n",
    "# frequency list (input)\n",
    "freq = \"raw_data/frequency_list_from_frequencylist-com.csv\"\n",
    "\n",
    "# output CSV\n",
    "output = \"deck.csv\" "
   ]
  },
  {
   "cell_type": "markdown",
   "id": "8ca39c1f",
   "metadata": {},
   "source": [
    "## Prompts"
   ]
  },
  {
   "cell_type": "code",
   "execution_count": null,
   "id": "f83dd8ea",
   "metadata": {},
   "outputs": [],
   "source": [
    "# Prompts for the AI\n",
    "PROMPT1 = \"Translate this english word into \" + lang + \": {} ({}). Just for information to help you understand the word, here are its variations : {}. Please only give one word, don't explain. If there are several translations, separate them with a comma\"\n",
    "PROMPT2 = \"Give a sentence using this word : {} ({}). Here is the \" + lang + \" translation of this word : {}. Please only give one sentence, don't explain. Don't give the french translation of the sentence\"\n",
    "    "
   ]
  },
  {
   "cell_type": "markdown",
   "id": "3bd05239",
   "metadata": {},
   "source": [
    "## Computing\n",
    "**Nb : the code can be stopped at any moment, the data will be saved. Launching again the code will continue from where it stopped the previous time**"
   ]
  },
  {
   "cell_type": "code",
   "execution_count": null,
   "id": "6c761679",
   "metadata": {},
   "outputs": [],
   "source": [
    "# We load the frequency list\n",
    "freq = pd.read_csv(freq)\n",
    "\n",
    "# We add 2 empty columns in te table\n",
    "freq[lang] = None\n",
    "freq[\"sentence\"] = None"
   ]
  },
  {
   "cell_type": "code",
   "execution_count": null,
   "id": "80b24e4b",
   "metadata": {},
   "outputs": [],
   "source": [
    "def translate(row):\n",
    "    word = row[\"word\"]\n",
    "    tpe = row[\"type\"]\n",
    "    inf = row[\"inflections\"]\n",
    "    prompt = PROMPT1.format(word, tpe, inf)\n",
    "    response = ollama.chat(model=ollama_model, messages=[{\"role\": \"user\", \"content\": prompt}])\n",
    "    return response['message']['content'].strip()\n",
    "\n",
    "def give_example(row):\n",
    "    word = row[\"word\"]\n",
    "    tpe = row[\"type\"]\n",
    "    translation = row[lang]\n",
    "    prompt = PROMPT2.format(word, tpe, translation)\n",
    "    response = ollama.chat(model=ollama_model, messages=[{\"role\": \"user\", \"content\": prompt}])\n",
    "    return response['message']['content'].strip()\n",
    "\n"
   ]
  },
  {
   "cell_type": "code",
   "execution_count": null,
   "id": "672e5256",
   "metadata": {},
   "outputs": [],
   "source": [
    "# We create the output CSV file\n",
    "if not os.path.exists(output):\n",
    "    freq.to_csv(output, index = False)\n",
    "    \n",
    "# We load the output CSV\n",
    "data = pd.read_csv(output)\n",
    "\n",
    "data.head()"
   ]
  },
  {
   "cell_type": "code",
   "execution_count": null,
   "id": "665164d0",
   "metadata": {
    "scrolled": true
   },
   "outputs": [],
   "source": [
    "# The file has already been partially filled, we get the remaining rows\n",
    "m = data.sentence.isnull() | data[lang].isnull()\n",
    "missing_idx = data[m].index \n",
    "\n",
    "print(f\"Number of remaining rows to fill : {m.sum()}\")\n",
    "\n",
    "# Main loop\n",
    "for batch_start in range(0, len(data), batch):\n",
    "\n",
    "    batch_idx = missing_idx[batch_start:batch_start + batch]\n",
    "    \n",
    "    trad = data.loc[batch_idx].apply(translate, axis=1)\n",
    "    data.loc[batch_idx, lang] = trad\n",
    "    \n",
    "    sentence = data.loc[batch_idx].apply(give_example, axis=1)\n",
    "    data.loc[batch_idx, \"sentence\"] = sentence\n",
    "    \n",
    "    display(data.loc[batch_idx, [lang, \"word\", \"sentence\"]])\n",
    "    \n",
    "    data.to_csv(output, index = False)\n",
    "\n"
   ]
  },
  {
   "cell_type": "code",
   "execution_count": null,
   "id": "547eecf2",
   "metadata": {},
   "outputs": [],
   "source": []
  },
  {
   "cell_type": "code",
   "execution_count": null,
   "id": "b3e6c659",
   "metadata": {},
   "outputs": [],
   "source": []
  },
  {
   "cell_type": "code",
   "execution_count": null,
   "id": "18e8fbbe",
   "metadata": {},
   "outputs": [],
   "source": []
  },
  {
   "cell_type": "code",
   "execution_count": null,
   "id": "05b1c6f6",
   "metadata": {},
   "outputs": [],
   "source": []
  }
 ],
 "metadata": {
  "kernelspec": {
   "display_name": "Python 3 (ipykernel)",
   "language": "python",
   "name": "python3"
  },
  "language_info": {
   "codemirror_mode": {
    "name": "ipython",
    "version": 3
   },
   "file_extension": ".py",
   "mimetype": "text/x-python",
   "name": "python",
   "nbconvert_exporter": "python",
   "pygments_lexer": "ipython3",
   "version": "3.9.13"
  }
 },
 "nbformat": 4,
 "nbformat_minor": 5
}
